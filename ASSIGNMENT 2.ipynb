{
 "cells": [
  {
   "cell_type": "code",
   "execution_count": 1,
   "id": "7eafc314",
   "metadata": {},
   "outputs": [],
   "source": [
    "import numpy as np\n",
    "import tensorflow as tf\n",
    "from tensorflow.keras.models import Sequential\n",
    "from tensorflow.keras.layers import LSTM\n",
    "from tensorflow.keras.layers import Dense, Dropout\n",
    "import pandas as pd\n",
    "from matplotlib import pyplot as plt\n",
    "from sklearn.preprocessing import StandardScaler\n",
    "\n",
    "#from datetime import datetime"
   ]
  },
  {
   "cell_type": "code",
   "execution_count": 60,
   "id": "cbe6fb9f",
   "metadata": {},
   "outputs": [
    {
     "name": "stdout",
     "output_type": "stream",
     "text": [
      "           Date    Stock  liabilities      equity  total_assets   \n",
      "0    2006-07-31  Stock 1   625.898686  925.086518   1550.985204  \\\n",
      "1    2006-08-31  Stock 1   407.387467  903.249093   1310.636561   \n",
      "2    2006-09-29  Stock 1   464.069891  602.668832   1066.738722   \n",
      "3    2006-10-31  Stock 1   855.854937  391.375369   1247.230306   \n",
      "4    2006-11-30  Stock 1   453.954969  956.490566   1410.445534   \n",
      "..          ...      ...          ...         ...           ...   \n",
      "125  2016-12-30  Stock 1   686.577086  214.185564    900.762650   \n",
      "126  2017-01-31  Stock 1   905.465559  193.736105   1099.201664   \n",
      "127  2017-02-28  Stock 1   603.556814  275.926800    879.483614   \n",
      "128  2017-03-31  Stock 1   710.954003  358.933999   1069.888002   \n",
      "129  2017-04-28  Stock 1   435.367708  727.841233   1163.208942   \n",
      "\n",
      "     current_assets  current_liabilities  total_revenue  net_income   \n",
      "0        675.789905           555.931329     548.488451  251.282553  \\\n",
      "1       1023.110983          1295.186240     513.446432  207.576940   \n",
      "2        709.711673           598.719338     503.519871  133.719700   \n",
      "3        649.979564           733.594339     596.006397  -76.881818   \n",
      "4       1115.594551          1152.274711     965.939247 -309.204301   \n",
      "..              ...                  ...            ...         ...   \n",
      "125      564.199127           495.922352     959.815795  -27.573745   \n",
      "126      508.576209           574.056508     830.806990  381.724019   \n",
      "127      546.578719           465.551644     402.651115   92.058365   \n",
      "128      597.197206           486.664759     869.723533 -418.378269   \n",
      "129      454.450985           557.707462     949.088856 -407.822000   \n",
      "\n",
      "      dividend  shares_outstanding       price  \n",
      "0    68.184030             1040831  100.000000  \n",
      "1    42.232672             1046649  101.924169  \n",
      "2    28.835722             1094158  103.166191  \n",
      "3     0.000000             1018574  104.478956  \n",
      "4     0.000000             1036293  104.160907  \n",
      "..         ...                 ...         ...  \n",
      "125   0.000000             1076454  125.115552  \n",
      "126  90.233391             1023217  124.302813  \n",
      "127  20.318253             1088367  125.061373  \n",
      "128   0.000000             1019805  126.133621  \n",
      "129   0.000000             1071934  124.977240  \n",
      "\n",
      "[130 rows x 12 columns]\n"
     ]
    }
   ],
   "source": [
    "df = pd.read_csv('Train (1).csv')\n",
    "df.head()\n",
    "df=df.head(130)\n",
    "print(df)\n",
    "dftest = pd.read_csv('Train (1).csv')\n",
    "dftest = dftest.head(150) \n",
    "\n"
   ]
  },
  {
   "cell_type": "code",
   "execution_count": 61,
   "id": "90d89009",
   "metadata": {},
   "outputs": [
    {
     "name": "stdout",
     "output_type": "stream",
     "text": [
      "['liabilities', 'equity', 'total_assets', 'current_assets', 'current_liabilities', 'total_revenue', 'net_income', 'dividend', 'shares_outstanding', 'price']\n"
     ]
    }
   ],
   "source": [
    "cols = list(df)[2:12]\n",
    "print(cols) \n"
   ]
  },
  {
   "cell_type": "code",
   "execution_count": 62,
   "id": "b30bc4de",
   "metadata": {},
   "outputs": [],
   "source": [
    "df_for_training = df[cols].astype(float)\n",
    "df_for_test = dftest[cols].astype(float)\n",
    "#converts all element to the float"
   ]
  },
  {
   "cell_type": "code",
   "execution_count": 63,
   "id": "fb0c4c2b",
   "metadata": {},
   "outputs": [
    {
     "name": "stdout",
     "output_type": "stream",
     "text": [
      "[[ 0.27028016  1.43679852  1.3117372  ...  1.78592032 -0.31598085\n",
      "  -2.21157645]\n",
      " [-0.59955114  1.35798459  0.63518204 ...  0.84338815 -0.11453547\n",
      "  -1.96757486]\n",
      " [-0.37391446  0.27315384 -0.05136371 ...  0.35682181  1.53044024\n",
      "  -1.81007558]\n",
      " ...\n",
      " [ 0.18134349 -0.90609793 -0.57846637 ...  0.04747429  1.32992972\n",
      "   0.96642584]\n",
      " [ 0.60886129 -0.60651484 -0.04249883 ... -0.69046811 -1.04399574\n",
      "   1.10239633]\n",
      " [-0.48816972  0.72491627  0.22018941 ... -0.69046811  0.76094519\n",
      "   0.95575703]]\n"
     ]
    }
   ],
   "source": [
    "scaler = StandardScaler()\n",
    "scaler = scaler.fit(df_for_training)\n",
    "df_for_training_scaled = scaler.transform(df_for_training)\n",
    "print(df_for_training_scaled)"
   ]
  },
  {
   "cell_type": "code",
   "execution_count": 65,
   "id": "eab496bc",
   "metadata": {},
   "outputs": [
    {
     "name": "stdout",
     "output_type": "stream",
     "text": [
      "150\n",
      "testX shape == (150, 10).\n"
     ]
    }
   ],
   "source": [
    "scaler = StandardScaler()\n",
    "scaler = scaler.fit(df_for_test)\n",
    "df_for_test_scaled = scaler.transform(df_for_test)\n",
    "print(len(df_for_test_scaled))\n",
    "print('testX shape == {}.'.format(df_for_test_scaled.shape))"
   ]
  },
  {
   "cell_type": "code",
   "execution_count": 70,
   "id": "fccb3a75",
   "metadata": {},
   "outputs": [],
   "source": [
    "trainX = []\n",
    "trainY = []\n"
   ]
  },
  {
   "cell_type": "code",
   "execution_count": 71,
   "id": "b12f60e2",
   "metadata": {},
   "outputs": [
    {
     "name": "stdout",
     "output_type": "stream",
     "text": [
      "130\n"
     ]
    }
   ],
   "source": [
    "n_future = 1   # Number of days we want to look into the future based on the past days.\n",
    "n_past = 14 # Number of past days we want to use to predict the future.\n",
    "print(len(df_for_training_scaled))"
   ]
  },
  {
   "cell_type": "code",
   "execution_count": 72,
   "id": "5ad1b15b",
   "metadata": {},
   "outputs": [
    {
     "name": "stdout",
     "output_type": "stream",
     "text": [
      "trainX shape == (116, 14, 10).\n",
      "trainY shape == (116, 1).\n"
     ]
    }
   ],
   "source": [
    "for i in range(n_past, len(df_for_training_scaled) - n_future +1):\n",
    "    trainX.append(df_for_training_scaled[i - n_past:i, 0:df_for_training.shape[1]])\n",
    "    trainY.append(df_for_training_scaled[i + n_future - 1:i + n_future, 9])\n",
    "\n",
    "trainX, trainY = np.array(trainX), np.array(trainY)\n",
    "\n",
    "print('trainX shape == {}.'.format(trainX.shape))\n",
    "print('trainY shape == {}.'.format(trainY.shape))"
   ]
  },
  {
   "cell_type": "code",
   "execution_count": 73,
   "id": "19a24d39",
   "metadata": {},
   "outputs": [
    {
     "name": "stdout",
     "output_type": "stream",
     "text": [
      "testX shape == (136, 14, 10).\n",
      "testY shape == (136, 1).\n"
     ]
    }
   ],
   "source": [
    "\n",
    "\n",
    "testX = []\n",
    "testY = []\n",
    "\n",
    "for i in range(n_past, len(df_for_test_scaled) - n_future + 1):\n",
    "    testX.append(df_for_test_scaled[i - n_past:i, 0:df_for_test.shape[1]])\n",
    "    testY.append(df_for_test_scaled[i + n_future - 1:i + n_future, 9])\n",
    "\n",
    "testX = np.array(testX)\n",
    "testY = np.array(testY)\n",
    "\n",
    "print('testX shape == {}.'.format(testX.shape))\n",
    "print('testY shape == {}.'.format(testY.shape))\n"
   ]
  },
  {
   "cell_type": "code",
   "execution_count": 74,
   "id": "201973c7",
   "metadata": {},
   "outputs": [
    {
     "data": {
      "text/plain": [
       "array([[ 0.27028016,  1.43679852,  1.3117372 , ...,  1.78592032,\n",
       "        -0.31598085, -2.21157645],\n",
       "       [-0.59955114,  1.35798459,  0.63518204, ...,  0.84338815,\n",
       "        -0.11453547, -1.96757486],\n",
       "       [-0.37391446,  0.27315384, -0.05136371, ...,  0.35682181,\n",
       "         1.53044024, -1.81007558],\n",
       "       ...,\n",
       "       [ 0.18134349, -0.90609793, -0.57846637, ...,  0.04747429,\n",
       "         1.32992972,  0.96642584],\n",
       "       [ 0.60886129, -0.60651484, -0.04249883, ..., -0.69046811,\n",
       "        -1.04399574,  1.10239633],\n",
       "       [-0.48816972,  0.72491627,  0.22018941, ..., -0.69046811,\n",
       "         0.76094519,  0.95575703]])"
      ]
     },
     "execution_count": 74,
     "metadata": {},
     "output_type": "execute_result"
    }
   ],
   "source": [
    "df_for_training_scaled"
   ]
  },
  {
   "cell_type": "code",
   "execution_count": 75,
   "id": "c6976dfd",
   "metadata": {},
   "outputs": [
    {
     "data": {
      "text/plain": [
       "array([[-1.15363875],\n",
       "       [-1.33049726],\n",
       "       [-1.25218403],\n",
       "       [-1.33760816],\n",
       "       [-1.37706282],\n",
       "       [-1.28828044],\n",
       "       [-1.15050667],\n",
       "       [-1.22754209],\n",
       "       [-1.39872958],\n",
       "       [-1.60214929],\n",
       "       [-1.54072994],\n",
       "       [-1.47891168],\n",
       "       [-1.39248327],\n",
       "       [-1.34812906],\n",
       "       [-1.30209751],\n",
       "       [-1.25192988],\n",
       "       [-1.03863541],\n",
       "       [-0.99879059],\n",
       "       [-0.83210327],\n",
       "       [-0.64660612],\n",
       "       [-0.36746069],\n",
       "       [-0.35016177],\n",
       "       [-0.40908633],\n",
       "       [-0.52589349],\n",
       "       [-0.66224659],\n",
       "       [-0.62575141],\n",
       "       [-0.5980083 ],\n",
       "       [-0.49645166],\n",
       "       [-0.45252555],\n",
       "       [-0.48369848],\n",
       "       [-0.37998509],\n",
       "       [-0.44988033],\n",
       "       [-0.39628611],\n",
       "       [-0.21522121],\n",
       "       [-0.15040413],\n",
       "       [-0.14678591],\n",
       "       [-0.08118155],\n",
       "       [ 0.03822669],\n",
       "       [-0.17481687],\n",
       "       [-0.19811918],\n",
       "       [-0.09763132],\n",
       "       [-0.0091049 ],\n",
       "       [ 0.05409046],\n",
       "       [ 0.15841897],\n",
       "       [ 0.09034218],\n",
       "       [-0.03273977],\n",
       "       [-0.20836007],\n",
       "       [-0.3199558 ],\n",
       "       [-0.22859009],\n",
       "       [-0.11112317],\n",
       "       [ 0.12460143],\n",
       "       [ 0.26729305],\n",
       "       [ 0.40084502],\n",
       "       [ 0.63511858],\n",
       "       [ 0.61803139],\n",
       "       [ 0.55630738],\n",
       "       [ 0.77674664],\n",
       "       [ 0.67156726],\n",
       "       [ 0.47707792],\n",
       "       [ 0.56573927],\n",
       "       [ 0.55099157],\n",
       "       [ 0.63912361],\n",
       "       [ 0.52551062],\n",
       "       [ 0.59127854],\n",
       "       [ 0.56747412],\n",
       "       [ 0.65694567],\n",
       "       [ 0.61886786],\n",
       "       [ 0.60866975],\n",
       "       [ 0.5489956 ],\n",
       "       [ 0.60157727],\n",
       "       [ 0.75235061],\n",
       "       [ 0.91052916],\n",
       "       [ 0.81340573],\n",
       "       [ 0.70726556],\n",
       "       [ 0.56541413],\n",
       "       [ 0.54590284],\n",
       "       [ 0.41542709],\n",
       "       [ 0.49694194],\n",
       "       [ 0.64808927],\n",
       "       [ 0.84100578],\n",
       "       [ 0.98613063],\n",
       "       [ 0.98235353],\n",
       "       [ 1.08486945],\n",
       "       [ 1.15306336],\n",
       "       [ 1.10553478],\n",
       "       [ 1.1232834 ],\n",
       "       [ 1.28818424],\n",
       "       [ 1.23773269],\n",
       "       [ 1.09333184],\n",
       "       [ 0.99302026],\n",
       "       [ 0.88781567],\n",
       "       [ 0.96236902],\n",
       "       [ 0.94591821],\n",
       "       [ 1.09783832],\n",
       "       [ 1.17767056],\n",
       "       [ 1.29488705],\n",
       "       [ 1.22270098],\n",
       "       [ 1.15482892],\n",
       "       [ 0.99802917],\n",
       "       [ 1.0731057 ],\n",
       "       [ 1.2019239 ],\n",
       "       [ 1.15817519],\n",
       "       [ 1.03340539],\n",
       "       [ 1.13729414],\n",
       "       [ 1.10549794],\n",
       "       [ 1.07337749],\n",
       "       [ 1.038383  ],\n",
       "       [ 1.07596136],\n",
       "       [ 1.01125555],\n",
       "       [ 1.13934352],\n",
       "       [ 1.11861884],\n",
       "       [ 0.97329624],\n",
       "       [ 0.8702338 ],\n",
       "       [ 0.96642584],\n",
       "       [ 1.10239633],\n",
       "       [ 0.95575703]])"
      ]
     },
     "execution_count": 75,
     "metadata": {},
     "output_type": "execute_result"
    }
   ],
   "source": [
    "trainY"
   ]
  },
  {
   "cell_type": "code",
   "execution_count": 76,
   "id": "454549c5",
   "metadata": {},
   "outputs": [
    {
     "name": "stdout",
     "output_type": "stream",
     "text": [
      "Model: \"sequential_4\"\n",
      "_________________________________________________________________\n",
      " Layer (type)                Output Shape              Param #   \n",
      "=================================================================\n",
      " lstm_8 (LSTM)               (None, 14, 64)            19200     \n",
      "                                                                 \n",
      " lstm_9 (LSTM)               (None, 32)                12416     \n",
      "                                                                 \n",
      " dropout_4 (Dropout)         (None, 32)                0         \n",
      "                                                                 \n",
      " dense_4 (Dense)             (None, 1)                 33        \n",
      "                                                                 \n",
      "=================================================================\n",
      "Total params: 31,649\n",
      "Trainable params: 31,649\n",
      "Non-trainable params: 0\n",
      "_________________________________________________________________\n"
     ]
    }
   ],
   "source": [
    "model = Sequential()\n",
    "model.add(LSTM(64, activation='relu', input_shape=(trainX.shape[1], trainX.shape[2]), return_sequences=True)) \n",
    "model.add(LSTM(32, activation='relu', return_sequences=False))\n",
    "model.add(Dropout(0.2))\n",
    "model.add(Dense(trainY.shape[1]))\n",
    "\n",
    "model.compile(optimizer='adam', loss='mse')\n",
    "model.summary()"
   ]
  },
  {
   "cell_type": "code",
   "execution_count": 77,
   "id": "8396cbc9",
   "metadata": {},
   "outputs": [
    {
     "name": "stdout",
     "output_type": "stream",
     "text": [
      "Epoch 1/5\n",
      "35/35 [==============================] - 6s 35ms/step - loss: 0.3809 - val_loss: 0.0270\n",
      "Epoch 2/5\n",
      "35/35 [==============================] - 1s 19ms/step - loss: 0.1351 - val_loss: 0.0343\n",
      "Epoch 3/5\n",
      "35/35 [==============================] - 0s 13ms/step - loss: 0.0814 - val_loss: 0.0712\n",
      "Epoch 4/5\n",
      "35/35 [==============================] - 1s 18ms/step - loss: 0.0712 - val_loss: 0.0037\n",
      "Epoch 5/5\n",
      "35/35 [==============================] - 1s 18ms/step - loss: 0.0620 - val_loss: 0.0064\n"
     ]
    }
   ],
   "source": [
    "history = model.fit(trainX, trainY, epochs=5, batch_size=3, validation_split=0.1, verbose=1)"
   ]
  },
  {
   "cell_type": "code",
   "execution_count": 78,
   "id": "68bef1e6",
   "metadata": {},
   "outputs": [
    {
     "data": {
      "text/plain": [
       "<matplotlib.legend.Legend at 0x1a488265bd0>"
      ]
     },
     "execution_count": 78,
     "metadata": {},
     "output_type": "execute_result"
    },
    {
     "data": {
      "image/png": "[encoded data removed]",
      "text/plain": [
       "<Figure size 640x480 with 1 Axes>"
      ]
     },
     "metadata": {},
     "output_type": "display_data"
    }
   ],
   "source": [
    "plt.plot(history.history['loss'], label='Training loss')\n",
    "plt.plot(history.history['val_loss'], label='Validation loss')\n",
    "plt.legend()"
   ]
  },
  {
   "cell_type": "code",
   "execution_count": 79,
   "id": "6f8d77aa",
   "metadata": {},
   "outputs": [],
   "source": [
    "from pandas.tseries.holiday import USFederalHolidayCalendar\n",
    "from pandas.tseries.offsets import CustomBusinessDay\n",
    "us_bd = CustomBusinessDay(calendar=USFederalHolidayCalendar())"
   ]
  },
  {
   "cell_type": "code",
   "execution_count": 80,
   "id": "3d69b643",
   "metadata": {},
   "outputs": [
    {
     "name": "stdout",
     "output_type": "stream",
     "text": [
      "130   2017-05-31\n",
      "131   2017-06-30\n",
      "132   2017-07-31\n",
      "133   2017-08-31\n",
      "134   2017-09-29\n",
      "135   2017-10-31\n",
      "136   2017-11-30\n",
      "137   2017-12-29\n",
      "138   2018-01-31\n",
      "139   2018-02-28\n",
      "140   2018-03-30\n",
      "141   2018-04-30\n",
      "142   2018-05-31\n",
      "143   2018-06-29\n",
      "144   2018-07-31\n",
      "145   2018-08-31\n",
      "146   2018-09-28\n",
      "147   2018-10-31\n",
      "148   2018-11-30\n",
      "149   2018-12-31\n",
      "Name: Date, dtype: datetime64[ns]\n"
     ]
    }
   ],
   "source": [
    "\n",
    "\n",
    "train_dates = pd.to_datetime(dftest['Date'])\n",
    "print(train_dates.tail(20)) "
   ]
  },
  {
   "cell_type": "code",
   "execution_count": 81,
   "id": "899ddf90",
   "metadata": {},
   "outputs": [
    {
     "name": "stdout",
     "output_type": "stream",
     "text": [
      "1/1 [==============================] - 1s 546ms/step\n"
     ]
    }
   ],
   "source": [
    "prediction = model.predict(testX[-20:]) "
   ]
  },
  {
   "cell_type": "code",
   "execution_count": 82,
   "id": "84785888",
   "metadata": {},
   "outputs": [
    {
     "name": "stdout",
     "output_type": "stream",
     "text": [
      "[124.19713  124.27002  124.03698  124.07766  123.99227  124.05002\n",
      " 124.096306 123.86514  123.7244   123.79476  123.8999   124.19294\n",
      " 124.026024 123.606255 123.249176 123.19023  123.09395  122.98985\n",
      " 122.81643  122.594444]\n"
     ]
    }
   ],
   "source": [
    "prediction_copies = np.repeat(prediction, df_for_test_scaled.shape[1], axis=-1)\n",
    "y_pred_future = scaler.inverse_transform(prediction_copies)[:,9]\n",
    "print(y_pred_future)"
   ]
  },
  {
   "cell_type": "code",
   "execution_count": 84,
   "id": "8ac147dc",
   "metadata": {},
   "outputs": [],
   "source": [
    "dftest1 = dftest.tail(20)\n",
    "forecast_dates = dftest1['Date'].tolist()\n",
    "df_forecast = pd.DataFrame({'Date':np.array(forecast_dates), 'price':y_pred_future})\n",
    "df_forecast['Date']=pd.to_datetime(df_forecast['Date'])"
   ]
  },
  {
   "cell_type": "code",
   "execution_count": 85,
   "id": "d9302658",
   "metadata": {},
   "outputs": [
    {
     "name": "stderr",
     "output_type": "stream",
     "text": [
      "C:\\Users\\hp\\AppData\\Local\\Temp\\ipykernel_3604\\1150982956.py:2: SettingWithCopyWarning: \n",
      "A value is trying to be set on a copy of a slice from a DataFrame.\n",
      "Try using .loc[row_indexer,col_indexer] = value instead\n",
      "\n",
      "See the caveats in the documentation: https://pandas.pydata.org/pandas-docs/stable/user_guide/indexing.html#returning-a-view-versus-a-copy\n",
      "  original['Date']=pd.to_datetime(original['Date'])\n"
     ]
    },
    {
     "data": {
      "text/html": [
       "<div>\n",
       "<style scoped>\n",
       "    .dataframe tbody tr th:only-of-type {\n",
       "        vertical-align: middle;\n",
       "    }\n",
       "\n",
       "    .dataframe tbody tr th {\n",
       "        vertical-align: top;\n",
       "    }\n",
       "\n",
       "    .dataframe thead th {\n",
       "        text-align: right;\n",
       "    }\n",
       "</style>\n",
       "<table border=\"1\" class=\"dataframe\">\n",
       "  <thead>\n",
       "    <tr style=\"text-align: right;\">\n",
       "      <th></th>\n",
       "      <th>Date</th>\n",
       "      <th>price</th>\n",
       "    </tr>\n",
       "  </thead>\n",
       "  <tbody>\n",
       "    <tr>\n",
       "      <th>0</th>\n",
       "      <td>2006-07-31</td>\n",
       "      <td>100.000000</td>\n",
       "    </tr>\n",
       "    <tr>\n",
       "      <th>1</th>\n",
       "      <td>2006-08-31</td>\n",
       "      <td>101.924169</td>\n",
       "    </tr>\n",
       "    <tr>\n",
       "      <th>2</th>\n",
       "      <td>2006-09-29</td>\n",
       "      <td>103.166191</td>\n",
       "    </tr>\n",
       "    <tr>\n",
       "      <th>3</th>\n",
       "      <td>2006-10-31</td>\n",
       "      <td>104.478956</td>\n",
       "    </tr>\n",
       "    <tr>\n",
       "      <th>4</th>\n",
       "      <td>2006-11-30</td>\n",
       "      <td>104.160907</td>\n",
       "    </tr>\n",
       "    <tr>\n",
       "      <th>...</th>\n",
       "      <td>...</td>\n",
       "      <td>...</td>\n",
       "    </tr>\n",
       "    <tr>\n",
       "      <th>125</th>\n",
       "      <td>2016-12-30</td>\n",
       "      <td>125.115552</td>\n",
       "    </tr>\n",
       "    <tr>\n",
       "      <th>126</th>\n",
       "      <td>2017-01-31</td>\n",
       "      <td>124.302813</td>\n",
       "    </tr>\n",
       "    <tr>\n",
       "      <th>127</th>\n",
       "      <td>2017-02-28</td>\n",
       "      <td>125.061373</td>\n",
       "    </tr>\n",
       "    <tr>\n",
       "      <th>128</th>\n",
       "      <td>2017-03-31</td>\n",
       "      <td>126.133621</td>\n",
       "    </tr>\n",
       "    <tr>\n",
       "      <th>129</th>\n",
       "      <td>2017-04-28</td>\n",
       "      <td>124.977240</td>\n",
       "    </tr>\n",
       "  </tbody>\n",
       "</table>\n",
       "<p>130 rows × 2 columns</p>\n",
       "</div>"
      ],
      "text/plain": [
       "          Date       price\n",
       "0   2006-07-31  100.000000\n",
       "1   2006-08-31  101.924169\n",
       "2   2006-09-29  103.166191\n",
       "3   2006-10-31  104.478956\n",
       "4   2006-11-30  104.160907\n",
       "..         ...         ...\n",
       "125 2016-12-30  125.115552\n",
       "126 2017-01-31  124.302813\n",
       "127 2017-02-28  125.061373\n",
       "128 2017-03-31  126.133621\n",
       "129 2017-04-28  124.977240\n",
       "\n",
       "[130 rows x 2 columns]"
      ]
     },
     "execution_count": 85,
     "metadata": {},
     "output_type": "execute_result"
    }
   ],
   "source": [
    "original = df[['Date', 'price']]\n",
    "original['Date']=pd.to_datetime(original['Date'])\n",
    "original"
   ]
  },
  {
   "cell_type": "code",
   "execution_count": 86,
   "id": "e19f97db",
   "metadata": {},
   "outputs": [
    {
     "data": {
      "text/html": [
       "<div>\n",
       "<style scoped>\n",
       "    .dataframe tbody tr th:only-of-type {\n",
       "        vertical-align: middle;\n",
       "    }\n",
       "\n",
       "    .dataframe tbody tr th {\n",
       "        vertical-align: top;\n",
       "    }\n",
       "\n",
       "    .dataframe thead th {\n",
       "        text-align: right;\n",
       "    }\n",
       "</style>\n",
       "<table border=\"1\" class=\"dataframe\">\n",
       "  <thead>\n",
       "    <tr style=\"text-align: right;\">\n",
       "      <th></th>\n",
       "      <th>Date</th>\n",
       "      <th>price</th>\n",
       "    </tr>\n",
       "  </thead>\n",
       "  <tbody>\n",
       "    <tr>\n",
       "      <th>0</th>\n",
       "      <td>2017-05-31</td>\n",
       "      <td>124.197128</td>\n",
       "    </tr>\n",
       "    <tr>\n",
       "      <th>1</th>\n",
       "      <td>2017-06-30</td>\n",
       "      <td>124.270020</td>\n",
       "    </tr>\n",
       "    <tr>\n",
       "      <th>2</th>\n",
       "      <td>2017-07-31</td>\n",
       "      <td>124.036980</td>\n",
       "    </tr>\n",
       "    <tr>\n",
       "      <th>3</th>\n",
       "      <td>2017-08-31</td>\n",
       "      <td>124.077660</td>\n",
       "    </tr>\n",
       "    <tr>\n",
       "      <th>4</th>\n",
       "      <td>2017-09-29</td>\n",
       "      <td>123.992271</td>\n",
       "    </tr>\n",
       "    <tr>\n",
       "      <th>5</th>\n",
       "      <td>2017-10-31</td>\n",
       "      <td>124.050018</td>\n",
       "    </tr>\n",
       "    <tr>\n",
       "      <th>6</th>\n",
       "      <td>2017-11-30</td>\n",
       "      <td>124.096306</td>\n",
       "    </tr>\n",
       "    <tr>\n",
       "      <th>7</th>\n",
       "      <td>2017-12-29</td>\n",
       "      <td>123.865143</td>\n",
       "    </tr>\n",
       "    <tr>\n",
       "      <th>8</th>\n",
       "      <td>2018-01-31</td>\n",
       "      <td>123.724403</td>\n",
       "    </tr>\n",
       "    <tr>\n",
       "      <th>9</th>\n",
       "      <td>2018-02-28</td>\n",
       "      <td>123.794762</td>\n",
       "    </tr>\n",
       "    <tr>\n",
       "      <th>10</th>\n",
       "      <td>2018-03-30</td>\n",
       "      <td>123.899902</td>\n",
       "    </tr>\n",
       "    <tr>\n",
       "      <th>11</th>\n",
       "      <td>2018-04-30</td>\n",
       "      <td>124.192940</td>\n",
       "    </tr>\n",
       "    <tr>\n",
       "      <th>12</th>\n",
       "      <td>2018-05-31</td>\n",
       "      <td>124.026024</td>\n",
       "    </tr>\n",
       "    <tr>\n",
       "      <th>13</th>\n",
       "      <td>2018-06-29</td>\n",
       "      <td>123.606255</td>\n",
       "    </tr>\n",
       "    <tr>\n",
       "      <th>14</th>\n",
       "      <td>2018-07-31</td>\n",
       "      <td>123.249176</td>\n",
       "    </tr>\n",
       "    <tr>\n",
       "      <th>15</th>\n",
       "      <td>2018-08-31</td>\n",
       "      <td>123.190231</td>\n",
       "    </tr>\n",
       "    <tr>\n",
       "      <th>16</th>\n",
       "      <td>2018-09-28</td>\n",
       "      <td>123.093948</td>\n",
       "    </tr>\n",
       "    <tr>\n",
       "      <th>17</th>\n",
       "      <td>2018-10-31</td>\n",
       "      <td>122.989853</td>\n",
       "    </tr>\n",
       "    <tr>\n",
       "      <th>18</th>\n",
       "      <td>2018-11-30</td>\n",
       "      <td>122.816429</td>\n",
       "    </tr>\n",
       "    <tr>\n",
       "      <th>19</th>\n",
       "      <td>2018-12-31</td>\n",
       "      <td>122.594444</td>\n",
       "    </tr>\n",
       "  </tbody>\n",
       "</table>\n",
       "</div>"
      ],
      "text/plain": [
       "         Date       price\n",
       "0  2017-05-31  124.197128\n",
       "1  2017-06-30  124.270020\n",
       "2  2017-07-31  124.036980\n",
       "3  2017-08-31  124.077660\n",
       "4  2017-09-29  123.992271\n",
       "5  2017-10-31  124.050018\n",
       "6  2017-11-30  124.096306\n",
       "7  2017-12-29  123.865143\n",
       "8  2018-01-31  123.724403\n",
       "9  2018-02-28  123.794762\n",
       "10 2018-03-30  123.899902\n",
       "11 2018-04-30  124.192940\n",
       "12 2018-05-31  124.026024\n",
       "13 2018-06-29  123.606255\n",
       "14 2018-07-31  123.249176\n",
       "15 2018-08-31  123.190231\n",
       "16 2018-09-28  123.093948\n",
       "17 2018-10-31  122.989853\n",
       "18 2018-11-30  122.816429\n",
       "19 2018-12-31  122.594444"
      ]
     },
     "execution_count": 86,
     "metadata": {},
     "output_type": "execute_result"
    }
   ],
   "source": [
    "df_forecast"
   ]
  },
  {
   "cell_type": "code",
   "execution_count": 87,
   "id": "f400586b",
   "metadata": {
    "scrolled": true
   },
   "outputs": [
    {
     "data": {
      "text/plain": [
       "<Axes: xlabel='Date'>"
      ]
     },
     "execution_count": 87,
     "metadata": {},
     "output_type": "execute_result"
    },
    {
     "data": {
      "image/png": "[encoded data removed]",
      "text/plain": [
       "<Figure size 640x480 with 1 Axes>"
      ]
     },
     "metadata": {},
     "output_type": "display_data"
    },
    {
     "data": {
      "image/png": "[encoded data removed]",
      "text/plain": [
       "<Figure size 640x480 with 1 Axes>"
      ]
     },
     "metadata": {},
     "output_type": "display_data"
    }
   ],
   "source": [
    "original.plot(x='Date',y='price')\n",
    "original= pd.concat([original,df_forecast],axis=0)\n",
    "original.plot(x='Date',y='price')\n",
    "#f_forecast.plot(x='Date',y='price')"
   ]
  },
  {
   "cell_type": "code",
   "execution_count": 96,
   "id": "e53d1571",
   "metadata": {},
   "outputs": [
    {
     "name": "stdout",
     "output_type": "stream",
     "text": [
      "130    122.951050\n",
      "131    122.938915\n",
      "132    123.260215\n",
      "133    122.959089\n",
      "134    122.390991\n",
      "135    121.565300\n",
      "136    123.191378\n",
      "137    123.154387\n",
      "138    122.562211\n",
      "139    123.719922\n",
      "140    125.547720\n",
      "141    125.070057\n",
      "142    123.587449\n",
      "143    123.373934\n",
      "144    122.508423\n",
      "145    120.895608\n",
      "146    120.817216\n",
      "147    121.541253\n",
      "148    120.380297\n",
      "149    119.687371\n",
      "Name: price, dtype: float64\n"
     ]
    }
   ],
   "source": [
    "\n",
    "y_true = dftest1['price']\n",
    "print(y_true)"
   ]
  },
  {
   "cell_type": "code",
   "execution_count": 97,
   "id": "2a4dac41",
   "metadata": {},
   "outputs": [],
   "source": [
    "dates = dftest1['Date']\n",
    "    \n",
    "df_real = pd.DataFrame({'Date':np.array(dates), 'price':y_true})\n"
   ]
  },
  {
   "cell_type": "code",
   "execution_count": 98,
   "id": "e39f8c15",
   "metadata": {},
   "outputs": [
    {
     "data": {
      "text/html": [
       "<div>\n",
       "<style scoped>\n",
       "    .dataframe tbody tr th:only-of-type {\n",
       "        vertical-align: middle;\n",
       "    }\n",
       "\n",
       "    .dataframe tbody tr th {\n",
       "        vertical-align: top;\n",
       "    }\n",
       "\n",
       "    .dataframe thead th {\n",
       "        text-align: right;\n",
       "    }\n",
       "</style>\n",
       "<table border=\"1\" class=\"dataframe\">\n",
       "  <thead>\n",
       "    <tr style=\"text-align: right;\">\n",
       "      <th></th>\n",
       "      <th>Date</th>\n",
       "      <th>price</th>\n",
       "    </tr>\n",
       "  </thead>\n",
       "  <tbody>\n",
       "    <tr>\n",
       "      <th>130</th>\n",
       "      <td>2017-05-31</td>\n",
       "      <td>122.951050</td>\n",
       "    </tr>\n",
       "    <tr>\n",
       "      <th>131</th>\n",
       "      <td>2017-06-30</td>\n",
       "      <td>122.938915</td>\n",
       "    </tr>\n",
       "    <tr>\n",
       "      <th>132</th>\n",
       "      <td>2017-07-31</td>\n",
       "      <td>123.260215</td>\n",
       "    </tr>\n",
       "    <tr>\n",
       "      <th>133</th>\n",
       "      <td>2017-08-31</td>\n",
       "      <td>122.959089</td>\n",
       "    </tr>\n",
       "    <tr>\n",
       "      <th>134</th>\n",
       "      <td>2017-09-29</td>\n",
       "      <td>122.390991</td>\n",
       "    </tr>\n",
       "    <tr>\n",
       "      <th>135</th>\n",
       "      <td>2017-10-31</td>\n",
       "      <td>121.565300</td>\n",
       "    </tr>\n",
       "    <tr>\n",
       "      <th>136</th>\n",
       "      <td>2017-11-30</td>\n",
       "      <td>123.191378</td>\n",
       "    </tr>\n",
       "    <tr>\n",
       "      <th>137</th>\n",
       "      <td>2017-12-29</td>\n",
       "      <td>123.154387</td>\n",
       "    </tr>\n",
       "    <tr>\n",
       "      <th>138</th>\n",
       "      <td>2018-01-31</td>\n",
       "      <td>122.562211</td>\n",
       "    </tr>\n",
       "    <tr>\n",
       "      <th>139</th>\n",
       "      <td>2018-02-28</td>\n",
       "      <td>123.719922</td>\n",
       "    </tr>\n",
       "    <tr>\n",
       "      <th>140</th>\n",
       "      <td>2018-03-30</td>\n",
       "      <td>125.547720</td>\n",
       "    </tr>\n",
       "    <tr>\n",
       "      <th>141</th>\n",
       "      <td>2018-04-30</td>\n",
       "      <td>125.070057</td>\n",
       "    </tr>\n",
       "    <tr>\n",
       "      <th>142</th>\n",
       "      <td>2018-05-31</td>\n",
       "      <td>123.587449</td>\n",
       "    </tr>\n",
       "    <tr>\n",
       "      <th>143</th>\n",
       "      <td>2018-06-29</td>\n",
       "      <td>123.373934</td>\n",
       "    </tr>\n",
       "    <tr>\n",
       "      <th>144</th>\n",
       "      <td>2018-07-31</td>\n",
       "      <td>122.508423</td>\n",
       "    </tr>\n",
       "    <tr>\n",
       "      <th>145</th>\n",
       "      <td>2018-08-31</td>\n",
       "      <td>120.895608</td>\n",
       "    </tr>\n",
       "    <tr>\n",
       "      <th>146</th>\n",
       "      <td>2018-09-28</td>\n",
       "      <td>120.817216</td>\n",
       "    </tr>\n",
       "    <tr>\n",
       "      <th>147</th>\n",
       "      <td>2018-10-31</td>\n",
       "      <td>121.541253</td>\n",
       "    </tr>\n",
       "    <tr>\n",
       "      <th>148</th>\n",
       "      <td>2018-11-30</td>\n",
       "      <td>120.380297</td>\n",
       "    </tr>\n",
       "    <tr>\n",
       "      <th>149</th>\n",
       "      <td>2018-12-31</td>\n",
       "      <td>119.687371</td>\n",
       "    </tr>\n",
       "  </tbody>\n",
       "</table>\n",
       "</div>"
      ],
      "text/plain": [
       "           Date       price\n",
       "130  2017-05-31  122.951050\n",
       "131  2017-06-30  122.938915\n",
       "132  2017-07-31  123.260215\n",
       "133  2017-08-31  122.959089\n",
       "134  2017-09-29  122.390991\n",
       "135  2017-10-31  121.565300\n",
       "136  2017-11-30  123.191378\n",
       "137  2017-12-29  123.154387\n",
       "138  2018-01-31  122.562211\n",
       "139  2018-02-28  123.719922\n",
       "140  2018-03-30  125.547720\n",
       "141  2018-04-30  125.070057\n",
       "142  2018-05-31  123.587449\n",
       "143  2018-06-29  123.373934\n",
       "144  2018-07-31  122.508423\n",
       "145  2018-08-31  120.895608\n",
       "146  2018-09-28  120.817216\n",
       "147  2018-10-31  121.541253\n",
       "148  2018-11-30  120.380297\n",
       "149  2018-12-31  119.687371"
      ]
     },
     "execution_count": 98,
     "metadata": {},
     "output_type": "execute_result"
    }
   ],
   "source": [
    "df_real"
   ]
  },
  {
   "cell_type": "code",
   "execution_count": 99,
   "id": "f0f2412b",
   "metadata": {},
   "outputs": [
    {
     "data": {
      "text/plain": [
       "0.6842105263157895"
      ]
     },
     "execution_count": 99,
     "metadata": {},
     "output_type": "execute_result"
    }
   ],
   "source": [
    "def directional_accuracy(y_true, y_pred):\n",
    "    y_true_direction = np.sign(np.diff(y_true))\n",
    "    y_pred_direction = np.sign(np.diff(y_pred))\n",
    "    da = np.mean(y_true_direction == y_pred_direction)\n",
    "    return da\n",
    "directional_accuracy(y_true ,y_pred_future )"
   ]
  },
  {
   "cell_type": "code",
   "execution_count": 100,
   "id": "358abce1",
   "metadata": {},
   "outputs": [],
   "source": [
    "def mape(y_true , y_pred ):\n",
    "    y_true = np.array(y_true)\n",
    "    y_pred = np.array(y_pred)\n",
    "    \n",
    "    error = np.abs((y_true - y_pred) / y_true)\n",
    "    mape = np.mean(error) * 100\n",
    "    \n",
    "    return mape"
   ]
  },
  {
   "cell_type": "code",
   "execution_count": 101,
   "id": "44fc02d5",
   "metadata": {},
   "outputs": [
    {
     "name": "stdout",
     "output_type": "stream",
     "text": [
      "1.094867536565121\n"
     ]
    }
   ],
   "source": [
    "print(mape(y_true ,y_pred_future ))"
   ]
  },
  {
   "cell_type": "code",
   "execution_count": null,
   "id": "2151d997",
   "metadata": {},
   "outputs": [],
   "source": []
  }
 ],
 "metadata": {
  "kernelspec": {
   "display_name": "Python 3 (ipykernel)",
   "language": "python",
   "name": "python3"
  },
  "language_info": {
   "codemirror_mode": {
    "name": "ipython",
    "version": 3
   },
   "file_extension": ".py",
   "mimetype": "text/x-python",
   "name": "python",
   "nbconvert_exporter": "python",
   "pygments_lexer": "ipython3",
   "version": "3.11.3"
  }
 },
 "nbformat": 4,
 "nbformat_minor": 5
}
